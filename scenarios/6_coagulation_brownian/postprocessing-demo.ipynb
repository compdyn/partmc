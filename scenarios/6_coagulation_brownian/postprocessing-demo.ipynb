{
 "cells": [
  {
   "cell_type": "markdown",
   "metadata": {},
   "source": [
    "## load the necessary libraries"
   ]
  },
  {
   "cell_type": "code",
   "execution_count": 1,
   "metadata": {},
   "outputs": [],
   "source": [
    "from scipy.io import netcdf\n",
    "import numpy as np\n",
    "import matplotlib.pyplot as plt"
   ]
  },
  {
   "cell_type": "markdown",
   "metadata": {},
   "source": [
    "## load a file"
   ]
  },
  {
   "cell_type": "code",
   "execution_count": 2,
   "metadata": {},
   "outputs": [],
   "source": [
    "# file name\n",
    "fn = \"./out/example_0001_00000025.nc\"\n",
    "# load file\n",
    "f = netcdf.netcdf_file(fn, 'r')"
   ]
  },
  {
   "cell_type": "markdown",
   "metadata": {},
   "source": [
    "## species and index"
   ]
  },
  {
   "cell_type": "code",
   "execution_count": 3,
   "metadata": {},
   "outputs": [
    {
     "name": "stdout",
     "output_type": "stream",
     "text": [
      "aerosol species list: ['SO4', 'NO3', 'Cl', 'NH4', 'MSA', 'ARO1', 'ARO2', 'ALK1', 'OLE1', 'API1', 'API2', 'LIM1', 'LIM2', 'CO3', 'Na', 'Ca', 'OIN', 'OC', 'BC', 'H2O']\n",
      "aerosol species index: [ 1  2  3  4  5  6  7  8  9 10 11 12 13 14 15 16 17 18 19 20]\n"
     ]
    }
   ],
   "source": [
    "# show aero_species\n",
    "aero_species = f.variables['aero_species']\n",
    "aero_species_ls = aero_species.names.decode().split(\",\")\n",
    "aero_species_idx = aero_species.data\n",
    "print(\"aerosol species list:\", aero_species_ls)\n",
    "print(\"aerosol species index:\", aero_species_idx)"
   ]
  },
  {
   "cell_type": "markdown",
   "metadata": {},
   "source": [
    "## aerosol statistics"
   ]
  },
  {
   "cell_type": "code",
   "execution_count": 4,
   "metadata": {},
   "outputs": [
    {
     "name": "stdout",
     "output_type": "stream",
     "text": [
      "number conc.: 1690380239.6223736\n",
      "mass conc.: 4.333663795154615e-09\n"
     ]
    }
   ],
   "source": [
    "# number conc. of the population\n",
    "num_conc_per_particle = f.variables[\"aero_num_conc\"].data\n",
    "print(\"number conc.:\", num_conc_per_particle.sum())\n",
    "\n",
    "# mass conc. of the population\n",
    "mass_per_particle = f.variables[\"aero_particle_mass\"].data.sum(axis=0)\n",
    "print(\"mass conc.:\", (mass_per_particle * num_conc_per_particle).sum())\n",
    "\n",
    "# get particle volume and diameter\n",
    "aero_density = f.variables[\"aero_density\"].data.reshape(20,-1)\n",
    "aero_particle_mass = f.variables[\"aero_particle_mass\"].data \n",
    "aero_volume_per_particle = (aero_particle_mass/aero_density).sum(axis=0)\n",
    "aero_diameter = np.cbrt(aero_volume_per_particle*6.0/np.pi)"
   ]
  },
  {
   "cell_type": "markdown",
   "metadata": {},
   "source": [
    "## number distribution"
   ]
  },
  {
   "cell_type": "code",
   "execution_count": 5,
   "metadata": {},
   "outputs": [
    {
     "data": {
      "image/png": "[encoded data removed]",
      "text/plain": [
       "<Figure size 432x288 with 1 Axes>"
      ]
     },
     "metadata": {
      "needs_background": "light"
     },
     "output_type": "display_data"
    }
   ],
   "source": [
    "# setup the 111 bins ranged from 10^-8 to 10^-6\n",
    "bins = np.logspace(-8,-6,5*20+1)\n",
    "# plot the number distribution\n",
    "plt.hist(aero_diameter, bins=bins, weights=num_conc_per_particle)\n",
    "plt.xscale('log')\n",
    "plt.xlabel('diameter [m]')\n",
    "plt.ylabel(r'num conc. [# m$^{-3}$]')\n",
    "plt.show()"
   ]
  },
  {
   "cell_type": "markdown",
   "metadata": {},
   "source": [
    "## create a function and plot the time series"
   ]
  },
  {
   "cell_type": "code",
   "execution_count": 6,
   "metadata": {},
   "outputs": [],
   "source": [
    "def get_num_conc(fn):\n",
    "    with netcdf.netcdf_file(fn, 'r') as f:\n",
    "        return f.variables[\"aero_num_conc\"].data.sum()"
   ]
  },
  {
   "cell_type": "code",
   "execution_count": 7,
   "metadata": {},
   "outputs": [
    {
     "data": {
      "image/png": "[encoded data removed]",
      "text/plain": [
       "<Figure size 432x288 with 1 Axes>"
      ]
     },
     "metadata": {
      "needs_background": "light"
     },
     "output_type": "display_data"
    }
   ],
   "source": [
    "from glob import glob\n",
    "fn_ls = sorted(glob('./out/example_*.nc'))\n",
    "\n",
    "num_conc_ls = []\n",
    "for fn in fn_ls:\n",
    "    num_conc_ls.append(get_num_conc(fn))\n",
    "    \n",
    "plt.plot(num_conc_ls)\n",
    "plt.xlabel(\"hour\")\n",
    "plt.ylabel(r\"number conc [# m$^{-3}$]\")\n",
    "plt.show()"
   ]
  }
 ],
 "metadata": {
  "kernelspec": {
   "display_name": "Python 3",
   "language": "python",
   "name": "python3"
  },
  "language_info": {
   "codemirror_mode": {
    "name": "ipython",
    "version": 3
   },
   "file_extension": ".py",
   "mimetype": "text/x-python",
   "name": "python",
   "nbconvert_exporter": "python",
   "pygments_lexer": "ipython3",
   "version": "3.8.0"
  }
 },
 "nbformat": 4,
 "nbformat_minor": 4
}
